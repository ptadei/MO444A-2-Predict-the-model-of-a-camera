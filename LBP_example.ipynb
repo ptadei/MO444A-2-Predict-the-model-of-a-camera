{
 "cells": [
  {
   "cell_type": "code",
   "execution_count": 54,
   "metadata": {},
   "outputs": [
    {
     "data": {
      "text/plain": [
       "((4128, 2322), (4128, 2322), (4128, 2322))"
      ]
     },
     "execution_count": 54,
     "metadata": {},
     "output_type": "execute_result"
    }
   ],
   "source": [
    "from skimage.feature import local_binary_pattern\n",
    "from skimage.restoration import denoise_wavelet\n",
    "import cv2\n",
    "# settings for LBP\n",
    "radius = 3\n",
    "n_points = 8 * radius\n",
    "METHOD = 'uniform'\n",
    "\n",
    "img = cv2.imread('train/Samsung-Galaxy-Note3/(GalaxyN3)54.jpg', cv2.COLOR_BGR2RGB)\n",
    "img.shape\n",
    "lbp_r = local_binary_pattern(img[:,:,0], n_points, radius, METHOD)\n",
    "lbp_g = local_binary_pattern(img[:,:,1], n_points, radius, METHOD)\n",
    "lbp_b = local_binary_pattern(img[:,:,2], n_points, radius, METHOD)\n",
    "lbp_r.shape, lbp_g.shape, lbp_b.shape"
   ]
  },
  {
   "cell_type": "code",
   "execution_count": 52,
   "metadata": {},
   "outputs": [
    {
     "data": {
      "text/plain": [
       "31.0"
      ]
     },
     "execution_count": 52,
     "metadata": {},
     "output_type": "execute_result"
    }
   ],
   "source": [
    "lbp_g.max()"
   ]
  },
  {
   "cell_type": "code",
   "execution_count": null,
   "metadata": {},
   "outputs": [],
   "source": []
  },
  {
   "cell_type": "code",
   "execution_count": null,
   "metadata": {},
   "outputs": [],
   "source": []
  }
 ],
 "metadata": {
  "kernelspec": {
   "display_name": "Python 3",
   "language": "python",
   "name": "python3"
  },
  "language_info": {
   "codemirror_mode": {
    "name": "ipython",
    "version": 3
   },
   "file_extension": ".py",
   "mimetype": "text/x-python",
   "name": "python",
   "nbconvert_exporter": "python",
   "pygments_lexer": "ipython3",
   "version": "3.6.4"
  }
 },
 "nbformat": 4,
 "nbformat_minor": 2
}
