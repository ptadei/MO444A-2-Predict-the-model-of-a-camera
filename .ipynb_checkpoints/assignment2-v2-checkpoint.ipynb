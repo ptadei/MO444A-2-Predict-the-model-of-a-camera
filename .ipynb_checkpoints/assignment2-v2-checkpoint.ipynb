{
 "cells": [
  {
   "cell_type": "markdown",
   "metadata": {},
   "source": [
    "# Feature Extraction"
   ]
  },
  {
   "cell_type": "code",
   "execution_count": 5,
   "metadata": {},
   "outputs": [
    {
     "data": {
      "application/vnd.jupyter.widget-view+json": {
       "model_id": "c0dfd505c73243f28250ee1bdd07e782",
       "version_major": 2,
       "version_minor": 0
      },
      "text/html": [
       "<p>Failed to display Jupyter Widget of type <code>HBox</code>.</p>\n",
       "<p>\n",
       "  If you're reading this message in the Jupyter Notebook or JupyterLab Notebook, it may mean\n",
       "  that the widgets JavaScript is still loading. If this message persists, it\n",
       "  likely means that the widgets JavaScript library is either not installed or\n",
       "  not enabled. See the <a href=\"https://ipywidgets.readthedocs.io/en/stable/user_install.html\">Jupyter\n",
       "  Widgets Documentation</a> for setup instructions.\n",
       "</p>\n",
       "<p>\n",
       "  If you're reading this message in another frontend (for example, a static\n",
       "  rendering on GitHub or <a href=\"https://nbviewer.jupyter.org/\">NBViewer</a>),\n",
       "  it may mean that your frontend doesn't currently support widgets.\n",
       "</p>\n"
      ],
      "text/plain": [
       "HBox(children=(IntProgress(value=0, max=1), HTML(value='')))"
      ]
     },
     "metadata": {},
     "output_type": "display_data"
    },
    {
     "name": "stdout",
     "output_type": "stream",
     "text": [
      "\n"
     ]
    },
    {
     "ename": "NameError",
     "evalue": "name 'cropx' is not defined",
     "output_type": "error",
     "traceback": [
      "\u001b[0;31m---------------------------------------------------------------------------\u001b[0m",
      "\u001b[0;31mNameError\u001b[0m                                 Traceback (most recent call last)",
      "\u001b[0;32m<ipython-input-5-332495039873>\u001b[0m in \u001b[0;36m<module>\u001b[0;34m()\u001b[0m\n\u001b[1;32m    132\u001b[0m \u001b[0;34m\u001b[0m\u001b[0m\n\u001b[1;32m    133\u001b[0m \u001b[0mpaths\u001b[0m \u001b[0;34m=\u001b[0m \u001b[0;34m[\u001b[0m\u001b[0;34m'train/Samsung-Galaxy-Note3/(GalaxyN3)54.jpg'\u001b[0m\u001b[0;34m]\u001b[0m\u001b[0;34m\u001b[0m\u001b[0m\n\u001b[0;32m--> 134\u001b[0;31m \u001b[0msave_all_features\u001b[0m\u001b[0;34m(\u001b[0m\u001b[0mpaths\u001b[0m\u001b[0;34m,\u001b[0m \u001b[0;34m'features.json'\u001b[0m\u001b[0;34m,\u001b[0m \u001b[0;32mTrue\u001b[0m\u001b[0;34m)\u001b[0m\u001b[0;34m\u001b[0m\u001b[0m\n\u001b[0m",
      "\u001b[0;32m<ipython-input-5-332495039873>\u001b[0m in \u001b[0;36msave_all_features\u001b[0;34m(paths, output, verbose)\u001b[0m\n\u001b[1;32m    127\u001b[0m     \u001b[0;32mwith\u001b[0m \u001b[0mopen\u001b[0m\u001b[0;34m(\u001b[0m\u001b[0moutput\u001b[0m\u001b[0;34m,\u001b[0m \u001b[0;34m'w'\u001b[0m\u001b[0;34m)\u001b[0m \u001b[0;32mas\u001b[0m \u001b[0mmyfile\u001b[0m\u001b[0;34m:\u001b[0m\u001b[0;34m\u001b[0m\u001b[0m\n\u001b[1;32m    128\u001b[0m         \u001b[0;32mfor\u001b[0m \u001b[0mpath\u001b[0m \u001b[0;32min\u001b[0m \u001b[0mtqdm_notebook\u001b[0m\u001b[0;34m(\u001b[0m\u001b[0mpaths\u001b[0m\u001b[0;34m)\u001b[0m\u001b[0;34m:\u001b[0m\u001b[0;34m\u001b[0m\u001b[0m\n\u001b[0;32m--> 129\u001b[0;31m             \u001b[0mfeatures_list\u001b[0m \u001b[0;34m=\u001b[0m \u001b[0mget_path_features\u001b[0m\u001b[0;34m(\u001b[0m\u001b[0mpath\u001b[0m\u001b[0;34m)\u001b[0m\u001b[0;34m\u001b[0m\u001b[0m\n\u001b[0m\u001b[1;32m    130\u001b[0m             \u001b[0;32mfor\u001b[0m \u001b[0mfeatures\u001b[0m \u001b[0;32min\u001b[0m \u001b[0mfeatures_list\u001b[0m\u001b[0;34m:\u001b[0m\u001b[0;34m\u001b[0m\u001b[0m\n\u001b[1;32m    131\u001b[0m                 \u001b[0mmyfile\u001b[0m\u001b[0;34m.\u001b[0m\u001b[0mwrite\u001b[0m\u001b[0;34m(\u001b[0m\u001b[0mstr\u001b[0m\u001b[0;34m(\u001b[0m\u001b[0mfeatures\u001b[0m\u001b[0;34m)\u001b[0m\u001b[0;34m)\u001b[0m\u001b[0;34m\u001b[0m\u001b[0m\n",
      "\u001b[0;32m<ipython-input-5-332495039873>\u001b[0m in \u001b[0;36mget_path_features\u001b[0;34m(path)\u001b[0m\n\u001b[1;32m    114\u001b[0m     \u001b[0mstarty\u001b[0m \u001b[0;34m=\u001b[0m \u001b[0my\u001b[0m\u001b[0;34m//\u001b[0m\u001b[0;36m2\u001b[0m\u001b[0;34m-\u001b[0m\u001b[0;34m(\u001b[0m\u001b[0;36m512\u001b[0m\u001b[0;34m//\u001b[0m\u001b[0;36m2\u001b[0m\u001b[0;34m)\u001b[0m\u001b[0;34m\u001b[0m\u001b[0m\n\u001b[1;32m    115\u001b[0m \u001b[0;34m\u001b[0m\u001b[0m\n\u001b[0;32m--> 116\u001b[0;31m     \u001b[0mfeatures\u001b[0m \u001b[0;34m=\u001b[0m \u001b[0mget_image_features\u001b[0m\u001b[0;34m(\u001b[0m\u001b[0mimg\u001b[0m\u001b[0;34m,\u001b[0m \u001b[0mstartx\u001b[0m\u001b[0;34m,\u001b[0m \u001b[0mstarty\u001b[0m\u001b[0;34m,\u001b[0m \u001b[0mstartx\u001b[0m \u001b[0;34m+\u001b[0m \u001b[0mcropx\u001b[0m\u001b[0;34m,\u001b[0m \u001b[0mstarty\u001b[0m\u001b[0;34m+\u001b[0m\u001b[0mcropy\u001b[0m\u001b[0;34m)\u001b[0m \u001b[0;31m#centro\u001b[0m\u001b[0;34m\u001b[0m\u001b[0m\n\u001b[0m\u001b[1;32m    117\u001b[0m     \u001b[0mfeatures_list\u001b[0m\u001b[0;34m.\u001b[0m\u001b[0mappend\u001b[0m\u001b[0;34m(\u001b[0m\u001b[0mfeatures\u001b[0m\u001b[0;34m)\u001b[0m\u001b[0;34m\u001b[0m\u001b[0m\n\u001b[1;32m    118\u001b[0m \u001b[0;34m\u001b[0m\u001b[0m\n",
      "\u001b[0;31mNameError\u001b[0m: name 'cropx' is not defined"
     ]
    }
   ],
   "source": [
    "import os\n",
    "import numpy as np\n",
    "import pandas as pd\n",
    "import cv2\n",
    "from matplotlib import pyplot as plt\n",
    "%matplotlib inline\n",
    "from tqdm import tqdm_notebook\n",
    "import scipy.stats as ss\n",
    "from skimage.feature import local_binary_pattern\n",
    "from multiprocessing.dummy import Pool as ThreadPool \n",
    "\n",
    "n_images = 4\n",
    "\n",
    "\n",
    "def get_noise_features(noise, prefix):\n",
    "    noise_features = {\n",
    "        prefix + '_mean': np.mean(noise),\n",
    "        prefix + '_std': np.std(noise),\n",
    "        prefix + '_median': np.median(noise),\n",
    "        prefix + '_min': np.min(noise),\n",
    "        prefix + '_max': np.max(noise),\n",
    "        prefix + '_sum': np.sum(noise),\n",
    "        prefix + '_kurtosis': ss.kurtosis(noise.flatten()),\n",
    "        prefix + '_skewness': ss.skew(noise.flatten()),\n",
    "        prefix + '_entropy': ss.entropy(noise.flatten()),\n",
    "        prefix + '_variation': ss.variation(noise.flatten()),\n",
    "        prefix + '_noises_zero_count': len(noise[noise == 0]),\n",
    "        prefix + '_non_zero_count': len(noise[noise > 0]),\n",
    "        prefix + '_non_zero_mean': np.mean(noise[noise > 0]),\n",
    "        prefix + '_non_zero_std': np.std(noise[noise > 0]),\n",
    "        prefix + '_non_zero_median': np.median(noise[noise > 0]),\n",
    "        prefix + '_nnon_zero_entropy': ss.entropy(noise[noise > 0].flatten()),\n",
    "        prefix + '_non_zero_variation': ss.variation(noise[noise > 0].flatten()),\n",
    "        prefix + '_low_value_count': (noise < 50).sum(),\n",
    "        prefix + '_high_value_count': (noise > 200).sum()\n",
    "    }\n",
    "    return noise_features\n",
    "\n",
    "\n",
    "def format_(name, values):\n",
    "    return {'{}{}'.format(name, i): v for i, v in enumerate(values)}\n",
    "\n",
    "def get_image_features(img, x1, y1, x2, y2):\n",
    "    img = img[x1:x2, y1:y2]\n",
    "\n",
    "    img_nl = cv2.fastNlMeansDenoisingColored(img)\n",
    "    noise_nl = img - img_nl\n",
    "    \n",
    "#     img_dw = denoise_wavelet(img, multichannel=True)\n",
    "#     noise_dw = img - (img_dw * 255).astype(np.int)\n",
    "\n",
    "    features = {}\n",
    "    features.update(get_noise_features(noise_nl[:,:,0], 'noise_nl_r'))\n",
    "    features.update(get_noise_features(noise_nl[:,:,1], 'noise_nl_g'))\n",
    "    features.update(get_noise_features(noise_nl[:,:,2], 'noise_nl_b'))\n",
    "\n",
    "#     features.update(get_noise_features(noise_dw[:,:,0], 'noise_dw_r'))\n",
    "#     features.update(get_noise_features(noise_dw[:,:,1], 'noise_dw_g'))\n",
    "#     features.update(get_noise_features(noise_dw[:,:,2], 'noise_dw_b'))\n",
    "\n",
    "    features.update(format_('noise_nl_hist_r', cv2.calcHist([noise_nl], [0], None, [256], [0, 256]).flatten()))\n",
    "    features.update(format_('noise_nl_hist_g', cv2.calcHist([noise_nl], [1], None, [256], [0, 256]).flatten()))\n",
    "    features.update(format_('noise_nl_hist_b', cv2.calcHist([noise_nl], [2], None, [256], [0, 256]).flatten()))\n",
    "\n",
    "#     features.update(format_('noise_dw_hist_r', cv2.calcHist([noise_dw], [0], None, [256], [0, 256]).flatten()))\n",
    "#     features.update(format_('noise_dw_hist_g', cv2.calcHist([noise_dw], [1], None, [256], [0, 256]).flatten()))\n",
    "#     features.update(format_('noise_dw_hist_b', cv2.calcHist([noise_dw], [2], None, [256], [0, 256]).flatten()))\n",
    "\n",
    "    features.update(format_('img_hist_r', cv2.calcHist([img], [0], None, [256], [0, 256]).flatten()))\n",
    "    features.update(format_('img_hist_g', cv2.calcHist([img], [1], None, [256], [0, 256]).flatten()))\n",
    "    features.update(format_('img_hist_b', cv2.calcHist([img], [2], None, [256], [0, 256]).flatten()))\n",
    "\n",
    "    #Get LBP from image \n",
    "    lbp_r = local_binary_pattern(img[:,:,0], 8, 3)\n",
    "    lbp_g = local_binary_pattern(img[:,:,1], 8, 3)\n",
    "    lbp_b = local_binary_pattern(img[:,:,2], 8, 3)  \n",
    "    (hist_r, _) = np.histogram(lbp_r, bins=256)\n",
    "    (hist_g, _) = np.histogram(lbp_g, bins=256)\n",
    "    (hist_b, _) = np.histogram(lbp_b, bins=256)\n",
    "    features.update(format_('img_hist_lbp_r', hist_r))\n",
    "    features.update(format_('img_hist_lbp_g', hist_g))\n",
    "    features.update(format_('img_hist_lbp_b', hist_b))\n",
    "    \n",
    "    return features\n",
    "\n",
    "\n",
    "def get_path_features(path):\n",
    "    features_list = []\n",
    "    img = cv2.imread(path, cv2.COLOR_BGR2RGB)\n",
    "#     for angle in [0, 90, 90, 90]:\n",
    "#         if angle != 0:\n",
    "#             img = np.rot90(img)\n",
    "#         for _ in range(0, n_images):\n",
    "    (h, w) = img.shape[:2]\n",
    "#             x, y = np.random.randint(h-512), np.random.randint(w-512)\n",
    "    x, y = 0, 0\n",
    "    features = get_image_features(img, x, y, x + 512, y + 512) #canto esquerdo sup.\n",
    "    features_list.append(features)\n",
    "\n",
    "    x, y = h-512, w-512\n",
    "    features = get_image_features(img, x, y, x + 512, y + 512) #canto direito inf.\n",
    "    features_list.append(features)\n",
    "\n",
    "    x, y = h, w\n",
    "    features = get_image_features(img, x-512, 0, x, 512) #canto direito sup.\n",
    "    features_list.append(features)\n",
    "\n",
    "    x, y = h, w\n",
    "    features = get_image_features(img, 0, y-512, 512, y) #canto esquerdo inf.\n",
    "    features_list.append(features)\n",
    "\n",
    "    x, y = h, w\n",
    "    startx = x//2-(512//2)\n",
    "    starty = y//2-(512//2)\n",
    "\n",
    "    features = get_image_features(img, startx, starty, startx + cropx, starty+cropy) #centro\n",
    "    features_list.append(features)\n",
    "\n",
    "    features.update({\n",
    "        'device': os.path.basename(os.path.dirname(path)),\n",
    "        'filename': os.path.basename(path)\n",
    "    })\n",
    "    features_list.append(features)\n",
    "    return features_list\n",
    "\n",
    "def save_all_features(paths, output, verbose=False):\n",
    "    with open(output, 'w') as myfile:\n",
    "        for path in tqdm_notebook(paths):\n",
    "            features_list = get_path_features(path)\n",
    "            for features in features_list:\n",
    "                myfile.write(str(features))\n",
    "\n",
    "paths = ['train/Samsung-Galaxy-Note3/(GalaxyN3)54.jpg']\n",
    "save_all_features(paths, 'features.json', True)"
   ]
  },
  {
   "cell_type": "code",
   "execution_count": 133,
   "metadata": {},
   "outputs": [
    {
     "name": "stdout",
     "output_type": "stream",
     "text": [
      "Extracting features of 2750 images...\n",
      "Started at 2018-04-18 00:04:12.278056\n"
     ]
    },
    {
     "data": {
      "application/vnd.jupyter.widget-view+json": {
       "model_id": "b1bfaf3e020649b680363e625d8a7117",
       "version_major": 2,
       "version_minor": 0
      },
      "text/html": [
       "<p>Failed to display Jupyter Widget of type <code>HBox</code>.</p>\n",
       "<p>\n",
       "  If you're reading this message in the Jupyter Notebook or JupyterLab Notebook, it may mean\n",
       "  that the widgets JavaScript is still loading. If this message persists, it\n",
       "  likely means that the widgets JavaScript library is either not installed or\n",
       "  not enabled. See the <a href=\"https://ipywidgets.readthedocs.io/en/stable/user_install.html\">Jupyter\n",
       "  Widgets Documentation</a> for setup instructions.\n",
       "</p>\n",
       "<p>\n",
       "  If you're reading this message in another frontend (for example, a static\n",
       "  rendering on GitHub or <a href=\"https://nbviewer.jupyter.org/\">NBViewer</a>),\n",
       "  it may mean that your frontend doesn't currently support widgets.\n",
       "</p>\n"
      ],
      "text/plain": [
       "HBox(children=(IntProgress(value=0, max=2750), HTML(value='')))"
      ]
     },
     "metadata": {},
     "output_type": "display_data"
    },
    {
     "name": "stderr",
     "output_type": "stream",
     "text": [
      "/home/carlosbaia/anaconda3/lib/python3.6/site-packages/scipy/stats/_distn_infrastructure.py:2508: RuntimeWarning: invalid value encountered in true_divide\n",
      "  pk = 1.0*pk / np.sum(pk, axis=0)\n",
      "/home/carlosbaia/anaconda3/lib/python3.6/site-packages/scipy/stats/stats.py:998: RuntimeWarning: invalid value encountered in double_scalars\n",
      "  return a.std(axis) / a.mean(axis)\n",
      "/home/carlosbaia/anaconda3/lib/python3.6/site-packages/numpy/core/fromnumeric.py:2957: RuntimeWarning: Mean of empty slice.\n",
      "  out=out, **kwargs)\n",
      "/home/carlosbaia/anaconda3/lib/python3.6/site-packages/numpy/core/_methods.py:80: RuntimeWarning: invalid value encountered in double_scalars\n",
      "  ret = ret.dtype.type(ret / rcount)\n",
      "/home/carlosbaia/anaconda3/lib/python3.6/site-packages/numpy/core/_methods.py:135: RuntimeWarning: Degrees of freedom <= 0 for slice\n",
      "  keepdims=keepdims)\n",
      "/home/carlosbaia/anaconda3/lib/python3.6/site-packages/numpy/core/_methods.py:105: RuntimeWarning: invalid value encountered in true_divide\n",
      "  arrmean, rcount, out=arrmean, casting='unsafe', subok=False)\n",
      "/home/carlosbaia/anaconda3/lib/python3.6/site-packages/numpy/core/_methods.py:127: RuntimeWarning: invalid value encountered in double_scalars\n",
      "  ret = ret.dtype.type(ret / rcount)\n",
      "/home/carlosbaia/anaconda3/lib/python3.6/site-packages/scipy/stats/stats.py:998: RuntimeWarning: Mean of empty slice.\n",
      "  return a.std(axis) / a.mean(axis)\n"
     ]
    },
    {
     "name": "stdout",
     "output_type": "stream",
     "text": [
      "\n",
      "Finished at 2018-04-18 09:43:45.975598\n"
     ]
    }
   ],
   "source": [
    "from datetime import datetime\n",
    "\n",
    "paths = []\n",
    "base_dir = '/media/carlosbaia/HD - CARLOS HENRIQUE/Unicamp/MO444/train'\n",
    "for device_dir in os.listdir(base_dir):\n",
    "    for file in os.listdir(os.path.join(base_dir, device_dir)):\n",
    "        paths.append(os.path.join(base_dir, device_dir, file))\n",
    "      \n",
    "print('Extracting features of {} images...'.format(len(paths)))\n",
    "print('Started at {}'.format(datetime.now()))\n",
    "save_all_features(paths, 'features.json')\n",
    "print('Finished at {}'.format(datetime.now()))"
   ]
  },
  {
   "cell_type": "code",
   "execution_count": 127,
   "metadata": {
    "scrolled": true
   },
   "outputs": [
    {
     "ename": "TypeError",
     "evalue": "denoise_wavelet() got an unexpected keyword argument 'method'",
     "output_type": "error",
     "traceback": [
      "\u001b[0;31m---------------------------------------------------------------------------\u001b[0m",
      "\u001b[0;31mTypeError\u001b[0m                                 Traceback (most recent call last)",
      "\u001b[0;32m<ipython-input-127-f89c2f3e15fb>\u001b[0m in \u001b[0;36m<module>\u001b[0;34m()\u001b[0m\n\u001b[0;32m----> 1\u001b[0;31m \u001b[0mdw\u001b[0m \u001b[0;34m=\u001b[0m \u001b[0mdenoise_wavelet\u001b[0m\u001b[0;34m(\u001b[0m\u001b[0mimg\u001b[0m\u001b[0;34m,\u001b[0m \u001b[0mmultichannel\u001b[0m\u001b[0;34m=\u001b[0m\u001b[0;32mTrue\u001b[0m\u001b[0;34m,\u001b[0m \u001b[0mmethod\u001b[0m\u001b[0;34m=\u001b[0m\u001b[0;34m'BayesShrink'\u001b[0m\u001b[0;34m)\u001b[0m\u001b[0;34m\u001b[0m\u001b[0m\n\u001b[0m\u001b[1;32m      2\u001b[0m \u001b[0mdw_n\u001b[0m \u001b[0;34m=\u001b[0m \u001b[0;34m(\u001b[0m\u001b[0mdw\u001b[0m  \u001b[0;34m*\u001b[0m \u001b[0;36m255\u001b[0m\u001b[0;34m)\u001b[0m\u001b[0;34m.\u001b[0m\u001b[0mastype\u001b[0m\u001b[0;34m(\u001b[0m\u001b[0mnp\u001b[0m\u001b[0;34m.\u001b[0m\u001b[0mint\u001b[0m\u001b[0;34m)\u001b[0m\u001b[0;34m\u001b[0m\u001b[0m\n\u001b[1;32m      3\u001b[0m \u001b[0mnoise_dw\u001b[0m \u001b[0;34m=\u001b[0m \u001b[0mimg\u001b[0m \u001b[0;34m-\u001b[0m \u001b[0mdw_n\u001b[0m\u001b[0;34m\u001b[0m\u001b[0m\n",
      "\u001b[0;31mTypeError\u001b[0m: denoise_wavelet() got an unexpected keyword argument 'method'"
     ]
    }
   ],
   "source": [
    "dw = denoise_wavelet(img, multichannel=True, method='BayesShrink')\n",
    "dw_n = (dw  * 255).astype(np.int)\n",
    "noise_dw = img - dw_n"
   ]
  },
  {
   "cell_type": "code",
   "execution_count": 125,
   "metadata": {},
   "outputs": [
    {
     "data": {
      "text/plain": [
       "((0, 255), (0, 255), (0, 1))"
      ]
     },
     "execution_count": 125,
     "metadata": {},
     "output_type": "execute_result"
    }
   ],
   "source": [
    "(img.min(), img.max()), (dw_n.min(), dw_n.max()), (noise_dw.min(), noise_dw.max())"
   ]
  },
  {
   "cell_type": "code",
   "execution_count": null,
   "metadata": {},
   "outputs": [],
   "source": [
    "fig, (ax1, ax2, ax3) = plt.subplots(1, 3, figsize=(20, 4))\n",
    "ax1.imshow(img)\n",
    "ax2.imshow(dw_n)\n",
    "ax3.imshow(noise_dw)"
   ]
  },
  {
   "cell_type": "markdown",
   "metadata": {},
   "source": [
    "# Train Model"
   ]
  },
  {
   "cell_type": "code",
   "execution_count": 11,
   "metadata": {},
   "outputs": [
    {
     "name": "stdout",
     "output_type": "stream",
     "text": [
      "55000\n"
     ]
    },
    {
     "data": {
      "text/html": [
       "<div>\n",
       "<style scoped>\n",
       "    .dataframe tbody tr th:only-of-type {\n",
       "        vertical-align: middle;\n",
       "    }\n",
       "\n",
       "    .dataframe tbody tr th {\n",
       "        vertical-align: top;\n",
       "    }\n",
       "\n",
       "    .dataframe thead th {\n",
       "        text-align: right;\n",
       "    }\n",
       "</style>\n",
       "<table border=\"1\" class=\"dataframe\">\n",
       "  <thead>\n",
       "    <tr style=\"text-align: right;\">\n",
       "      <th></th>\n",
       "      <th>noises_mean</th>\n",
       "      <th>noises_std</th>\n",
       "      <th>noises_median</th>\n",
       "      <th>noises_min</th>\n",
       "      <th>noises_max</th>\n",
       "      <th>noises_sum</th>\n",
       "      <th>noises_entropy</th>\n",
       "      <th>noises_variation</th>\n",
       "      <th>noises_zero_count</th>\n",
       "      <th>noises_non_zero_count</th>\n",
       "      <th>...</th>\n",
       "      <th>img_hist_254</th>\n",
       "      <th>img_hist_255</th>\n",
       "      <th>img_mean</th>\n",
       "      <th>img_std</th>\n",
       "      <th>img_laplacian</th>\n",
       "      <th>img_sobel</th>\n",
       "      <th>img_low_color</th>\n",
       "      <th>img_high_color</th>\n",
       "      <th>device</th>\n",
       "      <th>filename</th>\n",
       "    </tr>\n",
       "  </thead>\n",
       "  <tbody>\n",
       "    <tr>\n",
       "      <th>0</th>\n",
       "      <td>14.691711</td>\n",
       "      <td>59.080803</td>\n",
       "      <td>0.0</td>\n",
       "      <td>0.0</td>\n",
       "      <td>255.0</td>\n",
       "      <td>3851344.0</td>\n",
       "      <td>9.661123</td>\n",
       "      <td>4.021370</td>\n",
       "      <td>231331.0</td>\n",
       "      <td>30813.0</td>\n",
       "      <td>...</td>\n",
       "      <td>2380.0</td>\n",
       "      <td>2075.0</td>\n",
       "      <td>97.465164</td>\n",
       "      <td>54.889874</td>\n",
       "      <td>2451.360827</td>\n",
       "      <td>2.680003e+06</td>\n",
       "      <td>64987.0</td>\n",
       "      <td>8136.0</td>\n",
       "      <td>HTC-1-M7</td>\n",
       "      <td>(HTC-1-M7)1.jpg</td>\n",
       "    </tr>\n",
       "    <tr>\n",
       "      <th>1</th>\n",
       "      <td>87.854954</td>\n",
       "      <td>119.837133</td>\n",
       "      <td>2.0</td>\n",
       "      <td>0.0</td>\n",
       "      <td>255.0</td>\n",
       "      <td>23030649.0</td>\n",
       "      <td>11.457742</td>\n",
       "      <td>1.364034</td>\n",
       "      <td>81204.0</td>\n",
       "      <td>180940.0</td>\n",
       "      <td>...</td>\n",
       "      <td>7.0</td>\n",
       "      <td>24.0</td>\n",
       "      <td>103.408039</td>\n",
       "      <td>37.123013</td>\n",
       "      <td>163.883110</td>\n",
       "      <td>7.853958e+04</td>\n",
       "      <td>59.0</td>\n",
       "      <td>3586.0</td>\n",
       "      <td>HTC-1-M7</td>\n",
       "      <td>(HTC-1-M7)1.jpg</td>\n",
       "    </tr>\n",
       "    <tr>\n",
       "      <th>2</th>\n",
       "      <td>97.886593</td>\n",
       "      <td>122.428506</td>\n",
       "      <td>3.0</td>\n",
       "      <td>0.0</td>\n",
       "      <td>255.0</td>\n",
       "      <td>25660383.0</td>\n",
       "      <td>11.568542</td>\n",
       "      <td>1.250718</td>\n",
       "      <td>59988.0</td>\n",
       "      <td>202156.0</td>\n",
       "      <td>...</td>\n",
       "      <td>0.0</td>\n",
       "      <td>0.0</td>\n",
       "      <td>80.891674</td>\n",
       "      <td>6.371986</td>\n",
       "      <td>177.337730</td>\n",
       "      <td>4.367617e+04</td>\n",
       "      <td>513.0</td>\n",
       "      <td>0.0</td>\n",
       "      <td>HTC-1-M7</td>\n",
       "      <td>(HTC-1-M7)1.jpg</td>\n",
       "    </tr>\n",
       "    <tr>\n",
       "      <th>3</th>\n",
       "      <td>53.685238</td>\n",
       "      <td>103.161844</td>\n",
       "      <td>0.0</td>\n",
       "      <td>0.0</td>\n",
       "      <td>255.0</td>\n",
       "      <td>14073263.0</td>\n",
       "      <td>10.960092</td>\n",
       "      <td>1.921605</td>\n",
       "      <td>151929.0</td>\n",
       "      <td>110215.0</td>\n",
       "      <td>...</td>\n",
       "      <td>1.0</td>\n",
       "      <td>4.0</td>\n",
       "      <td>46.158791</td>\n",
       "      <td>35.731351</td>\n",
       "      <td>829.789852</td>\n",
       "      <td>7.506854e+05</td>\n",
       "      <td>200631.0</td>\n",
       "      <td>130.0</td>\n",
       "      <td>HTC-1-M7</td>\n",
       "      <td>(HTC-1-M7)1.jpg</td>\n",
       "    </tr>\n",
       "    <tr>\n",
       "      <th>4</th>\n",
       "      <td>11.435402</td>\n",
       "      <td>52.508425</td>\n",
       "      <td>0.0</td>\n",
       "      <td>0.0</td>\n",
       "      <td>255.0</td>\n",
       "      <td>2997722.0</td>\n",
       "      <td>9.408241</td>\n",
       "      <td>4.591743</td>\n",
       "      <td>238541.0</td>\n",
       "      <td>23603.0</td>\n",
       "      <td>...</td>\n",
       "      <td>1.0</td>\n",
       "      <td>4.0</td>\n",
       "      <td>76.850822</td>\n",
       "      <td>49.462525</td>\n",
       "      <td>2529.561804</td>\n",
       "      <td>2.470751e+06</td>\n",
       "      <td>111583.0</td>\n",
       "      <td>685.0</td>\n",
       "      <td>HTC-1-M7</td>\n",
       "      <td>(HTC-1-M7)1.jpg</td>\n",
       "    </tr>\n",
       "  </tbody>\n",
       "</table>\n",
       "<p>5 rows × 937 columns</p>\n",
       "</div>"
      ],
      "text/plain": [
       "   noises_mean  noises_std  noises_median  noises_min  noises_max  noises_sum  \\\n",
       "0    14.691711   59.080803            0.0         0.0       255.0   3851344.0   \n",
       "1    87.854954  119.837133            2.0         0.0       255.0  23030649.0   \n",
       "2    97.886593  122.428506            3.0         0.0       255.0  25660383.0   \n",
       "3    53.685238  103.161844            0.0         0.0       255.0  14073263.0   \n",
       "4    11.435402   52.508425            0.0         0.0       255.0   2997722.0   \n",
       "\n",
       "   noises_entropy  noises_variation  noises_zero_count  noises_non_zero_count  \\\n",
       "0        9.661123          4.021370           231331.0                30813.0   \n",
       "1       11.457742          1.364034            81204.0               180940.0   \n",
       "2       11.568542          1.250718            59988.0               202156.0   \n",
       "3       10.960092          1.921605           151929.0               110215.0   \n",
       "4        9.408241          4.591743           238541.0                23603.0   \n",
       "\n",
       "        ...         img_hist_254  img_hist_255    img_mean    img_std  \\\n",
       "0       ...               2380.0        2075.0   97.465164  54.889874   \n",
       "1       ...                  7.0          24.0  103.408039  37.123013   \n",
       "2       ...                  0.0           0.0   80.891674   6.371986   \n",
       "3       ...                  1.0           4.0   46.158791  35.731351   \n",
       "4       ...                  1.0           4.0   76.850822  49.462525   \n",
       "\n",
       "   img_laplacian     img_sobel  img_low_color  img_high_color    device  \\\n",
       "0    2451.360827  2.680003e+06        64987.0          8136.0  HTC-1-M7   \n",
       "1     163.883110  7.853958e+04           59.0          3586.0  HTC-1-M7   \n",
       "2     177.337730  4.367617e+04          513.0             0.0  HTC-1-M7   \n",
       "3     829.789852  7.506854e+05       200631.0           130.0  HTC-1-M7   \n",
       "4    2529.561804  2.470751e+06       111583.0           685.0  HTC-1-M7   \n",
       "\n",
       "          filename  \n",
       "0  (HTC-1-M7)1.jpg  \n",
       "1  (HTC-1-M7)1.jpg  \n",
       "2  (HTC-1-M7)1.jpg  \n",
       "3  (HTC-1-M7)1.jpg  \n",
       "4  (HTC-1-M7)1.jpg  \n",
       "\n",
       "[5 rows x 937 columns]"
      ]
     },
     "execution_count": 11,
     "metadata": {},
     "output_type": "execute_result"
    }
   ],
   "source": [
    "import pandas as pd\n",
    "import numpy as np\n",
    "\n",
    "df_train = pd.read_json('features.csv', names)\n",
    "print(len(df_train))\n",
    "df_train.head()"
   ]
  },
  {
   "cell_type": "code",
   "execution_count": 12,
   "metadata": {},
   "outputs": [
    {
     "data": {
      "text/plain": [
       "Motorola-Nexus-6        18\n",
       "Samsung-Galaxy-Note3    12\n",
       "LG-Nexus-5x             11\n",
       "Samsung-Galaxy-S4       11\n",
       "Sony-NEX-7               9\n",
       "Motorola-X               6\n",
       "Motorola-Droid-Maxx      5\n",
       "iPhone-4s                3\n",
       "HTC-1-M7                 1\n",
       "Name: device, dtype: int64"
      ]
     },
     "execution_count": 12,
     "metadata": {},
     "output_type": "execute_result"
    }
   ],
   "source": [
    "df_train[df_train.noises_mean == 0].device.value_counts()"
   ]
  },
  {
   "cell_type": "code",
   "execution_count": 13,
   "metadata": {},
   "outputs": [],
   "source": [
    "df_train.fillna(0, inplace=True)"
   ]
  },
  {
   "cell_type": "code",
   "execution_count": 14,
   "metadata": {},
   "outputs": [],
   "source": [
    "df_train.replace(np.inf, 0, inplace=True)\n",
    "df_train.replace(-np.inf, 0, inplace=True)"
   ]
  },
  {
   "cell_type": "markdown",
   "metadata": {},
   "source": [
    "# ML model"
   ]
  },
  {
   "cell_type": "code",
   "execution_count": 15,
   "metadata": {},
   "outputs": [],
   "source": [
    "features = df_train.columns.drop(['device', 'filename'])\n",
    "X = df_train[features].values\n",
    "y = df_train['device'].values"
   ]
  },
  {
   "cell_type": "code",
   "execution_count": 16,
   "metadata": {},
   "outputs": [
    {
     "name": "stdout",
     "output_type": "stream",
     "text": [
      "[0.69181818 0.69763636 0.70963636 0.70054545 0.70772727] 0.7014727272727272\n",
      "CPU times: user 5min 12s, sys: 1.9 s, total: 5min 13s\n",
      "Wall time: 5min 18s\n"
     ]
    }
   ],
   "source": [
    "%%time\n",
    "from sklearn.ensemble import RandomForestClassifier\n",
    "from sklearn.model_selection import cross_val_score, StratifiedKFold\n",
    "\n",
    "classifier = RandomForestClassifier(100, random_state=1986)\n",
    "\n",
    "cv = StratifiedKFold(5, True, 1986)\n",
    "scores = cross_val_score(classifier, X, y, scoring='accuracy', cv=cv)\n",
    "print(scores, scores.mean())"
   ]
  },
  {
   "cell_type": "markdown",
   "metadata": {},
   "source": [
    "# Outros"
   ]
  },
  {
   "cell_type": "code",
   "execution_count": 48,
   "metadata": {},
   "outputs": [
    {
     "ename": "ValueError",
     "evalue": "The parameter `image` must be a 2-dimensional array",
     "output_type": "error",
     "traceback": [
      "\u001b[0;31m---------------------------------------------------------------------------\u001b[0m",
      "\u001b[0;31mValueError\u001b[0m                                Traceback (most recent call last)",
      "\u001b[0;32m<ipython-input-48-44209203a3db>\u001b[0m in \u001b[0;36m<module>\u001b[0;34m()\u001b[0m\n\u001b[1;32m      1\u001b[0m \u001b[0;32mfrom\u001b[0m \u001b[0mskimage\u001b[0m\u001b[0;34m.\u001b[0m\u001b[0mfeature\u001b[0m \u001b[0;32mimport\u001b[0m \u001b[0mlocal_binary_pattern\u001b[0m\u001b[0;34m\u001b[0m\u001b[0m\n\u001b[1;32m      2\u001b[0m \u001b[0;34m\u001b[0m\u001b[0m\n\u001b[0;32m----> 3\u001b[0;31m \u001b[0mlocal_binary_pattern\u001b[0m\u001b[0;34m(\u001b[0m\u001b[0mimg\u001b[0m\u001b[0;34m,\u001b[0m \u001b[0;36m10\u001b[0m\u001b[0;34m,\u001b[0m \u001b[0;36m5\u001b[0m\u001b[0;34m)\u001b[0m\u001b[0;34m\u001b[0m\u001b[0m\n\u001b[0m",
      "\u001b[0;32m~/anaconda3/lib/python3.6/site-packages/skimage/feature/texture.py\u001b[0m in \u001b[0;36mlocal_binary_pattern\u001b[0;34m(image, P, R, method)\u001b[0m\n\u001b[1;32m    308\u001b[0m            \u001b[0;36m2004.\u001b[0m\u001b[0;34m\u001b[0m\u001b[0m\n\u001b[1;32m    309\u001b[0m     \"\"\"\n\u001b[0;32m--> 310\u001b[0;31m     \u001b[0massert_nD\u001b[0m\u001b[0;34m(\u001b[0m\u001b[0mimage\u001b[0m\u001b[0;34m,\u001b[0m \u001b[0;36m2\u001b[0m\u001b[0;34m)\u001b[0m\u001b[0;34m\u001b[0m\u001b[0m\n\u001b[0m\u001b[1;32m    311\u001b[0m \u001b[0;34m\u001b[0m\u001b[0m\n\u001b[1;32m    312\u001b[0m     methods = {\n",
      "\u001b[0;32m~/anaconda3/lib/python3.6/site-packages/skimage/_shared/utils.py\u001b[0m in \u001b[0;36massert_nD\u001b[0;34m(array, ndim, arg_name)\u001b[0m\n\u001b[1;32m    176\u001b[0m         \u001b[0;32mraise\u001b[0m \u001b[0mValueError\u001b[0m\u001b[0;34m(\u001b[0m\u001b[0mmsg_empty_array\u001b[0m \u001b[0;34m%\u001b[0m \u001b[0;34m(\u001b[0m\u001b[0marg_name\u001b[0m\u001b[0;34m)\u001b[0m\u001b[0;34m)\u001b[0m\u001b[0;34m\u001b[0m\u001b[0m\n\u001b[1;32m    177\u001b[0m     \u001b[0;32mif\u001b[0m \u001b[0;32mnot\u001b[0m \u001b[0marray\u001b[0m\u001b[0;34m.\u001b[0m\u001b[0mndim\u001b[0m \u001b[0;32min\u001b[0m \u001b[0mndim\u001b[0m\u001b[0;34m:\u001b[0m\u001b[0;34m\u001b[0m\u001b[0m\n\u001b[0;32m--> 178\u001b[0;31m         \u001b[0;32mraise\u001b[0m \u001b[0mValueError\u001b[0m\u001b[0;34m(\u001b[0m\u001b[0mmsg_incorrect_dim\u001b[0m \u001b[0;34m%\u001b[0m \u001b[0;34m(\u001b[0m\u001b[0marg_name\u001b[0m\u001b[0;34m,\u001b[0m \u001b[0;34m'-or-'\u001b[0m\u001b[0;34m.\u001b[0m\u001b[0mjoin\u001b[0m\u001b[0;34m(\u001b[0m\u001b[0;34m[\u001b[0m\u001b[0mstr\u001b[0m\u001b[0;34m(\u001b[0m\u001b[0mn\u001b[0m\u001b[0;34m)\u001b[0m \u001b[0;32mfor\u001b[0m \u001b[0mn\u001b[0m \u001b[0;32min\u001b[0m \u001b[0mndim\u001b[0m\u001b[0;34m]\u001b[0m\u001b[0;34m)\u001b[0m\u001b[0;34m)\u001b[0m\u001b[0;34m)\u001b[0m\u001b[0;34m\u001b[0m\u001b[0m\n\u001b[0m\u001b[1;32m    179\u001b[0m \u001b[0;34m\u001b[0m\u001b[0m\n\u001b[1;32m    180\u001b[0m \u001b[0;34m\u001b[0m\u001b[0m\n",
      "\u001b[0;31mValueError\u001b[0m: The parameter `image` must be a 2-dimensional array"
     ]
    }
   ],
   "source": [
    "from skimage.feature import local_binary_pattern\n",
    "\n",
    "local_binary_pattern(img, 10, 5)"
   ]
  },
  {
   "cell_type": "code",
   "execution_count": null,
   "metadata": {},
   "outputs": [],
   "source": []
  }
 ],
 "metadata": {
  "kernelspec": {
   "display_name": "Python 3",
   "language": "python",
   "name": "python3"
  },
  "language_info": {
   "codemirror_mode": {
    "name": "ipython",
    "version": 3
   },
   "file_extension": ".py",
   "mimetype": "text/x-python",
   "name": "python",
   "nbconvert_exporter": "python",
   "pygments_lexer": "ipython3",
   "version": "3.6.4"
  }
 },
 "nbformat": 4,
 "nbformat_minor": 2
}
